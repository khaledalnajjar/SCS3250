{
 "cells": [
  {
   "cell_type": "code",
   "execution_count": 1,
   "metadata": {},
   "outputs": [],
   "source": [
    "#!pip install geopy\n",
    "#!pip install python-google-places\n",
    "%matplotlib inline\n",
    "import pandas as pd\n",
    "from datetime import datetime\n",
    "from geopy.distance import geodesic\n",
    "import geopy.distance\n",
    "from geopy.distance import vincenty as VIN\n",
    "from geopy.distance import great_circle\n",
    "import pandas as pd\n",
    "import numpy as np\n",
    "from matplotlib import pyplot as plt\n",
    "import seaborn as sns\n",
    "import pylab as plot\n",
    "from sklearn.linear_model import LinearRegression\n",
    "from sklearn import datasets\n",
    "import statsmodels.formula.api as sm"
   ]
  },
  {
   "cell_type": "code",
   "execution_count": 2,
   "metadata": {},
   "outputs": [],
   "source": [
    "data = pd.read_csv(\"unique_mls_db_GIT.csv\")\n",
    "cpi=pd.read_csv(\"CPI.csv\")\n",
    "\n",
    "#coordinates of major go train stations in mississauga and nearby cities: Lisgar, Meadowvale, Streesville, _\n",
    "#Erindale, Cocksville, Dixie, Kipling, Clarkson, Port Credit, and Long Branch\n",
    "\n",
    "go_station_msga=[[43.5905809,-79.788362],[43.5976,-79.75369999999998],\n",
    "                 [43.5762,-79.70910000000003],[43.5670973,-79.6689102],\n",
    "                 [43.5819,-79.62369999999998],[43.607605,-79.5776749],\n",
    "                 [43.6357039,-79.5372283],[43.51251816552179,-79.63435649871826],\n",
    "                 [43.5555,-79.5874],[43.59133291164543,-79.54609036445617]]\n",
    "\n",
    "#coordinates of major hospitals in mississauga: Trillium Health Centre, Mississauga Credit Valley Hospital, _\n",
    "#Oakville Trafalgar Memorial Hospital, Milton District Hospital\n",
    "\n",
    "hospitals_msga = [[43.5713, -79.6084],[43.5594, -79.7033],[43.4507, -79.7639],[43.4962539,-79.8716229]]\n",
    "\n",
    "data_msga = data.loc[data['city']=='Mississauga']"
   ]
  },
  {
   "cell_type": "code",
   "execution_count": 3,
   "metadata": {},
   "outputs": [
    {
     "name": "stderr",
     "output_type": "stream",
     "text": [
      "c:\\users\\zhaojoseph\\appdata\\local\\programs\\python\\python37-32\\lib\\site-packages\\ipykernel_launcher.py:8: SettingWithCopyWarning: \n",
      "A value is trying to be set on a copy of a slice from a DataFrame.\n",
      "Try using .loc[row_indexer,col_indexer] = value instead\n",
      "\n",
      "See the caveats in the documentation: http://pandas.pydata.org/pandas-docs/stable/indexing.html#indexing-view-versus-copy\n",
      "  \n"
     ]
    }
   ],
   "source": [
    "#Categorize house types: 1 = town house, 2 = detached, 3 = semi-detached, 4 = condo; \n",
    "#Drop the remaining house types including vacant land, link house, mobile trailer etc. \n",
    "\n",
    "house_types = {'Att/Row/Twnhouse':1, 'Condo Townhouse':1,'Det W/Com Elements':2,'Detached':2,'Semi-Det Condo':3,\n",
    "               'Semi-Detached':3,'Comm Element Condo':4,'Condo Ap':4,'Condo Apartment':4,'Condo Apt':4,\n",
    "               'Condo To':4,'Det Condo':4,'Leasehold Condo':4,}\n",
    "\n",
    "data_msga['house_type'] = data_msga['type'].map(house_types)\n",
    "data_msga=data_msga.dropna(subset=['house_type'])\n",
    "\n",
    "#---------------------------------------------------------------------------------------------------------------------\n",
    "#any fee associated with a house: 1 = free hold, 2 = not free hold\n",
    "\n",
    "house_fees = {'house':1, 'condo':2}\n",
    "\n",
    "data_msga['house_fees'] = data_msga['house_condo'].map(house_fees)\n",
    "\n",
    "#---------------------------------------------------------------------------------------------------------------------\n",
    "#area in mississauga where a house belongs to\n",
    "\n",
    "house_area = {'Streetsville':1, 'Cooksville':2,'Applewood':3,'Rathwood':4,'Hurontario':5,'Central Erin Mills':6,\n",
    "              'Mineola':7,'Clarkson':8,'City Centre':9,'Meadowvale':10,'Malton':11,'Erin Mills':12,\n",
    "              'Churchill Meadows':13,'Lisgar':14,'Port Credit':15,'East Credit':16,'Creditview':17,\n",
    "              'Meadowvale Village':18,'Lorne Park':19,'Fairview':20,'Mississauga Valleys':21,'Erindale':22,\n",
    "              'Sheridan':23,'Dixie':24,'Northeast':25,'Mavis-Erindale':26,'Gateway':27,'Lakeview':33,\n",
    "              'Meadowvale Business Park':28,'Sheridan Park':29,'Southdown':30,'Port Credi':31,'City Centr':32,\n",
    "              'Huttonville':34}    \n",
    "    \n",
    "data_msga['house_area'] = data_msga['area'].map(house_area)"
   ]
  },
  {
   "cell_type": "code",
   "execution_count": 4,
   "metadata": {},
   "outputs": [],
   "source": [
    "#add soldyear, soldmonth columns on both CPI and housing data in preparation for merging these two files\n",
    "data_msga.loc[:,['solddate']] = pd.to_datetime(data_msga['solddate'])\n",
    "data_msga.insert(len(data_msga.columns),column='soldyear',value=pd.DatetimeIndex(data_msga['solddate']).year)\n",
    "data_msga.insert(len(data_msga.columns),column='soldmonth',value=pd.DatetimeIndex(data_msga['solddate']).month)\n",
    "cpi_targetrange=cpi[(pd.to_datetime(cpi['Date'])>=datetime(2015,7,1)) & \n",
    "                    (pd.to_datetime(cpi['Date'])<=datetime(2017,6,30))]\n",
    "cpi_targetrange.insert(len(cpi_targetrange.columns),column='soldyear',\n",
    "                       value=pd.DatetimeIndex(cpi_targetrange['Date']).year)\n",
    "cpi_targetrange.insert(len(cpi_targetrange.columns),column='soldmonth',\n",
    "                       value=pd.DatetimeIndex(cpi_targetrange['Date']).month)\n",
    "\n",
    "#merge with CPI file and convert nominal sold prices to real sold prices with base case = 2015-07-31 \n",
    "\n",
    "data_msga=pd.merge(cpi_targetrange, data_msga, on=['soldyear','soldmonth'], how='outer')\n",
    "cpibase=float(cpi_targetrange['PX_LAST'][pd.to_datetime(cpi_targetrange['Date'])==datetime(2015,7,31)])\n",
    "data_msga.insert(len(data_msga.columns),column='cpibase',value=cpibase)\n",
    "data_msga.insert(len(data_msga.columns),column='adjustedSoldPrice',value=\n",
    "                round(data_msga['soldprice']*data_msga['cpibase']/data_msga['PX_LAST'],0))"
   ]
  },
  {
   "cell_type": "code",
   "execution_count": 53,
   "metadata": {},
   "outputs": [],
   "source": [
    "#Categorize property selling seasonality based on soldmonth: 1 = summer (April to August), 2 = shoulder season\n",
    "#(September to November), 3 = winter (December to March)\n",
    "\n",
    "data_msga['season'] = ''\n",
    "data_msga.loc[(data_msga.soldmonth<=8 ) & (data_msga.soldmonth >=4),'season']= 1\n",
    "data_msga.loc[(data_msga.soldmonth<=11 ) & (data_msga.soldmonth >=9),'season']= 2\n",
    "data_msga.loc[(data_msga.soldmonth==12 ) | (data_msga.soldmonth >=1) & (data_msga.soldmonth <=3),'season']= 3"
   ]
  },
  {
   "cell_type": "code",
   "execution_count": 6,
   "metadata": {},
   "outputs": [],
   "source": [
    "#take a house's coordinates and calculate minimum distance of a house to GO stations and hospitals\n",
    "data_msga_coordinate = data_msga[['latitude','longitude']].values\n",
    "mindist_GO = []\n",
    "mindist_Hospital = []\n",
    "for i in range(len(data_msga_coordinate)):\n",
    "    tempGO = []\n",
    "    tempHospital = []\n",
    "    for j in range(len(go_station_msga)):\n",
    "        tempGO.append(geodesic(go_station_msga[j], data_msga_coordinate[i]).meters)\n",
    "    mindist_GO.append(round(min(tempGO), 2))\n",
    "\n",
    "    for k in range(len(hospitals_msga)):\n",
    "        tempHospital.append(geodesic(hospitals_msga[k], data_msga_coordinate[i]).meters)\n",
    "    mindist_Hospital.append(round(min(tempHospital),2))\n",
    "        \n",
    "#add the minimum distance to the dataframe\n",
    "\n",
    "data_msga.insert(len(data_msga.columns),column='mindist_GO',value=mindist_GO)\n",
    "data_msga.insert(len(data_msga.columns),column='mindist_Hospital',value=mindist_Hospital)"
   ]
  },
  {
   "cell_type": "code",
   "execution_count": 7,
   "metadata": {},
   "outputs": [
    {
     "data": {
      "image/png": "[encoded data removed]",
      "text/plain": [
       "<Figure size 1440x720 with 1 Axes>"
      ]
     },
     "metadata": {
      "needs_background": "light"
     },
     "output_type": "display_data"
    },
    {
     "data": {
      "image/png": "[encoded data removed]",
      "text/plain": [
       "<Figure size 1440x720 with 1 Axes>"
      ]
     },
     "metadata": {
      "needs_background": "light"
     },
     "output_type": "display_data"
    }
   ],
   "source": [
    "#the average distance between a nearest hospital/GO station and a house in Malton is significantly longer than in other\n",
    "#area, which indicates that Malton should be removed from the model as a outliner\n",
    "\n",
    "areamean = data_msga.groupby(['area']).mean()\n",
    "areamean = areamean.sort_values(by=['house_area'])\n",
    "n=np.arange(len(areamean.index))\n",
    "width = 0.25\n",
    "fig,ax=plt.subplots(figsize=(20,10))\n",
    "mean_dis_GO = ax.bar(n,areamean['mindist_GO'],width,color='y',align='center')\n",
    "mean_dis_hospital = ax.bar(n+width,areamean['mindist_Hospital'],width,color='g',align='center')\n",
    "ax.set(ylabel = 'Distance to Go and hospital',title='Average Distances to GO and Hospital by Area (Before)')\n",
    "plt.show()\n",
    "\n",
    "#exclude Malton, and replace group 11 (Malton) with the last grup 34\n",
    "data_msga=data_msga[data_msga['area']!='Malton']\n",
    "data_msga.house_area[data_msga.house_area==34] = 11\n",
    "\n",
    "areamean = data_msga.groupby(['area']).mean()\n",
    "areamean = areamean.sort_values(by=['house_area'])\n",
    "n=np.arange(len(areamean.index))\n",
    "width = 0.25\n",
    "fig,ax=plt.subplots(figsize=(20,10))\n",
    "mean_dis_GO = ax.bar(n,areamean['mindist_GO'],width,color='y',align='center')\n",
    "mean_dis_hospital = ax.bar(n+width,areamean['mindist_Hospital'],width,color='g',align='center')\n",
    "ax.set(ylabel = 'Distance to Go and hospital',title='Average Distances to GO and Hospital by Area (After)')\n",
    "plt.show()"
   ]
  },
  {
   "cell_type": "code",
   "execution_count": 8,
   "metadata": {},
   "outputs": [
    {
     "data": {
      "image/png": "[encoded data removed]",
      "text/plain": [
       "<Figure size 432x288 with 1 Axes>"
      ]
     },
     "metadata": {
      "needs_background": "light"
     },
     "output_type": "display_data"
    },
    {
     "data": {
      "image/png": "[encoded data removed]",
      "text/plain": [
       "<Figure size 432x288 with 1 Axes>"
      ]
     },
     "metadata": {
      "needs_background": "light"
     },
     "output_type": "display_data"
    }
   ],
   "source": [
    "#exclude house sold at zero price \n",
    "#exclude outliner that were sold at more than 3 billion \n",
    "\n",
    "data_msga=data_msga[data_msga['adjustedSoldPrice']!=0]\n",
    "n,bins,patches=plt.hist(data_msga['adjustedSoldPrice'],100,facecolor='g')\n",
    "plt.xlabel('soldprice')\n",
    "plt.ylabel('frequencies')\n",
    "plt.title('Before')\n",
    "plot.show()\n",
    "data_msga=data_msga[data_msga['adjustedSoldPrice']<3000000]\n",
    "\n",
    "n,bins,patches=plt.hist(data_msga['adjustedSoldPrice'],100,facecolor='g')\n",
    "plt.xlabel('soldprice')\n",
    "plt.ylabel('frequencies')\n",
    "plt.title('After')\n",
    "plot.show()"
   ]
  },
  {
   "cell_type": "code",
   "execution_count": 9,
   "metadata": {},
   "outputs": [],
   "source": [
    "#scale the minimum distance to GO station and hospital to the range of 1 to 100 to avoid these two variables dominate \n",
    "#the other values, which are no bigger than 35\n",
    "\n",
    "data_msga.insert(len(data_msga.columns),column='mindist_GO_min',value=data_msga['mindist_GO'].min())\n",
    "data_msga.insert(len(data_msga.columns),column='mindist_GO_max',value=data_msga['mindist_GO'].max())\n",
    "data_msga.insert(len(data_msga.columns),column='mindist_Hospital_min',value=data_msga['mindist_Hospital'].min())\n",
    "data_msga.insert(len(data_msga.columns),column='mindist_Hospital_max',value=data_msga['mindist_Hospital'].max())\n",
    "\n",
    "data_msga.insert(len(data_msga.columns),column='mindist_GO_score',\n",
    "                 value=100*(data_msga['mindist_GO_max']-data_msga['mindist_GO'])/\n",
    "                 (data_msga['mindist_GO_max']-data_msga['mindist_GO_min']))\n",
    "data_msga.insert(len(data_msga.columns),column='mindist_Hospital_score',\n",
    "                 value=100*(data_msga['mindist_Hospital_max']-data_msga['mindist_Hospital'])/\n",
    "                 (data_msga['mindist_Hospital_max']-data_msga['mindist_Hospital_min']))"
   ]
  },
  {
   "cell_type": "code",
   "execution_count": 59,
   "metadata": {},
   "outputs": [
    {
     "data": {
      "text/html": [
       "<table class=\"simpletable\">\n",
       "<caption>OLS Regression Results</caption>\n",
       "<tr>\n",
       "  <th>Dep. Variable:</th>    <td>adjustedSoldPrice</td> <th>  R-squared:         </th>  <td>   0.905</td>  \n",
       "</tr>\n",
       "<tr>\n",
       "  <th>Model:</th>                   <td>OLS</td>        <th>  Adj. R-squared:    </th>  <td>   0.905</td>  \n",
       "</tr>\n",
       "<tr>\n",
       "  <th>Method:</th>             <td>Least Squares</td>   <th>  F-statistic:       </th>  <td>2.511e+04</td> \n",
       "</tr>\n",
       "<tr>\n",
       "  <th>Date:</th>             <td>Mon, 08 Apr 2019</td>  <th>  Prob (F-statistic):</th>   <td>  0.00</td>   \n",
       "</tr>\n",
       "<tr>\n",
       "  <th>Time:</th>                 <td>01:36:32</td>      <th>  Log-Likelihood:    </th> <td>-2.9127e+05</td>\n",
       "</tr>\n",
       "<tr>\n",
       "  <th>No. Observations:</th>      <td> 21199</td>       <th>  AIC:               </th>  <td>5.826e+05</td> \n",
       "</tr>\n",
       "<tr>\n",
       "  <th>Df Residuals:</th>          <td> 21191</td>       <th>  BIC:               </th>  <td>5.826e+05</td> \n",
       "</tr>\n",
       "<tr>\n",
       "  <th>Df Model:</th>              <td>     8</td>       <th>                     </th>      <td> </td>     \n",
       "</tr>\n",
       "<tr>\n",
       "  <th>Covariance Type:</th>      <td>nonrobust</td>     <th>                     </th>      <td> </td>     \n",
       "</tr>\n",
       "</table>\n",
       "<table class=\"simpletable\">\n",
       "<tr>\n",
       "   <td></td>     <th>coef</th>     <th>std err</th>      <th>t</th>      <th>P>|t|</th>  <th>[0.025</th>    <th>0.975]</th>  \n",
       "</tr>\n",
       "<tr>\n",
       "  <th>x1</th> <td> 1.189e+05</td> <td> 2017.783</td> <td>   58.918</td> <td> 0.000</td> <td> 1.15e+05</td> <td> 1.23e+05</td>\n",
       "</tr>\n",
       "<tr>\n",
       "  <th>x2</th> <td>-9722.0507</td> <td> 1629.664</td> <td>   -5.966</td> <td> 0.000</td> <td>-1.29e+04</td> <td>-6527.786</td>\n",
       "</tr>\n",
       "<tr>\n",
       "  <th>x3</th> <td> 9318.0127</td> <td> 1821.693</td> <td>    5.115</td> <td> 0.000</td> <td> 5747.357</td> <td> 1.29e+04</td>\n",
       "</tr>\n",
       "<tr>\n",
       "  <th>x4</th> <td> 1752.0443</td> <td>  226.416</td> <td>    7.738</td> <td> 0.000</td> <td> 1308.252</td> <td> 2195.837</td>\n",
       "</tr>\n",
       "<tr>\n",
       "  <th>x5</th> <td> 5.129e+04</td> <td> 2569.890</td> <td>   19.959</td> <td> 0.000</td> <td> 4.63e+04</td> <td> 5.63e+04</td>\n",
       "</tr>\n",
       "<tr>\n",
       "  <th>x6</th> <td> 4273.4173</td> <td>  198.924</td> <td>   21.483</td> <td> 0.000</td> <td> 3883.511</td> <td> 4663.323</td>\n",
       "</tr>\n",
       "<tr>\n",
       "  <th>x7</th> <td>-2.655e+05</td> <td> 4124.690</td> <td>  -64.373</td> <td> 0.000</td> <td>-2.74e+05</td> <td>-2.57e+05</td>\n",
       "</tr>\n",
       "<tr>\n",
       "  <th>x8</th> <td> 2165.5395</td> <td>  208.362</td> <td>   10.393</td> <td> 0.000</td> <td> 1757.134</td> <td> 2573.945</td>\n",
       "</tr>\n",
       "</table>\n",
       "<table class=\"simpletable\">\n",
       "<tr>\n",
       "  <th>Omnibus:</th>       <td>11300.268</td> <th>  Durbin-Watson:     </th>  <td>   1.651</td> \n",
       "</tr>\n",
       "<tr>\n",
       "  <th>Prob(Omnibus):</th>  <td> 0.000</td>   <th>  Jarque-Bera (JB):  </th> <td>123406.766</td>\n",
       "</tr>\n",
       "<tr>\n",
       "  <th>Skew:</th>           <td> 2.343</td>   <th>  Prob(JB):          </th>  <td>    0.00</td> \n",
       "</tr>\n",
       "<tr>\n",
       "  <th>Kurtosis:</th>       <td>13.852</td>   <th>  Cond. No.          </th>  <td>    342.</td> \n",
       "</tr>\n",
       "</table><br/><br/>Warnings:<br/>[1] Standard Errors assume that the covariance matrix of the errors is correctly specified."
      ],
      "text/plain": [
       "<class 'statsmodels.iolib.summary.Summary'>\n",
       "\"\"\"\n",
       "                            OLS Regression Results                            \n",
       "==============================================================================\n",
       "Dep. Variable:      adjustedSoldPrice   R-squared:                       0.905\n",
       "Model:                            OLS   Adj. R-squared:                  0.905\n",
       "Method:                 Least Squares   F-statistic:                 2.511e+04\n",
       "Date:                Mon, 08 Apr 2019   Prob (F-statistic):               0.00\n",
       "Time:                        01:36:32   Log-Likelihood:            -2.9127e+05\n",
       "No. Observations:               21199   AIC:                         5.826e+05\n",
       "Df Residuals:                   21191   BIC:                         5.826e+05\n",
       "Df Model:                           8                                         \n",
       "Covariance Type:            nonrobust                                         \n",
       "==============================================================================\n",
       "                 coef    std err          t      P>|t|      [0.025      0.975]\n",
       "------------------------------------------------------------------------------\n",
       "x1          1.189e+05   2017.783     58.918      0.000    1.15e+05    1.23e+05\n",
       "x2         -9722.0507   1629.664     -5.966      0.000   -1.29e+04   -6527.786\n",
       "x3          9318.0127   1821.693      5.115      0.000    5747.357    1.29e+04\n",
       "x4          1752.0443    226.416      7.738      0.000    1308.252    2195.837\n",
       "x5          5.129e+04   2569.890     19.959      0.000    4.63e+04    5.63e+04\n",
       "x6          4273.4173    198.924     21.483      0.000    3883.511    4663.323\n",
       "x7         -2.655e+05   4124.690    -64.373      0.000   -2.74e+05   -2.57e+05\n",
       "x8          2165.5395    208.362     10.393      0.000    1757.134    2573.945\n",
       "==============================================================================\n",
       "Omnibus:                    11300.268   Durbin-Watson:                   1.651\n",
       "Prob(Omnibus):                  0.000   Jarque-Bera (JB):           123406.766\n",
       "Skew:                           2.343   Prob(JB):                         0.00\n",
       "Kurtosis:                      13.852   Cond. No.                         342.\n",
       "==============================================================================\n",
       "\n",
       "Warnings:\n",
       "[1] Standard Errors assume that the covariance matrix of the errors is correctly specified.\n",
       "\"\"\""
      ]
     },
     "execution_count": 59,
     "metadata": {},
     "output_type": "execute_result"
    }
   ],
   "source": [
    "#file for modeling\n",
    "y = data_msga['adjustedSoldPrice']\n",
    "data_msga_final = data_msga[{'mindist_GO_score','mindist_Hospital_score','season','house_type',\n",
    "                           'house_fees','house_area','bdrm','wshrm'}]\n",
    "x=data_msga_final.values\n",
    "result = sm.OLS(y,x).fit()\n",
    "result.summary()"
   ]
  },
  {
   "cell_type": "code",
   "execution_count": null,
   "metadata": {},
   "outputs": [],
   "source": []
  }
 ],
 "metadata": {
  "kernelspec": {
   "display_name": "Python 3",
   "language": "python",
   "name": "python3"
  },
  "language_info": {
   "codemirror_mode": {
    "name": "ipython",
    "version": 3
   },
   "file_extension": ".py",
   "mimetype": "text/x-python",
   "name": "python",
   "nbconvert_exporter": "python",
   "pygments_lexer": "ipython3",
   "version": "3.7.2"
  }
 },
 "nbformat": 4,
 "nbformat_minor": 2
}
